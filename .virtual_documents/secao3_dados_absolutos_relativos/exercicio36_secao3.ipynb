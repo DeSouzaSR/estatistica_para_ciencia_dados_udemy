


import pandas as pd


ano_graudacao = [1, 2, 3, 4]
matriculas_marco = [70, 50, 47, 23]
matriculas_novembro = [65, 48, 40, 22]


dados = {'ano_graduacao':ano_graudacao,
         'matriculas_marco': matriculas_marco,
         'matriculas_novembro': matriculas_novembro}

dataset = pd.DataFrame(dados)
dataset


dataset['taxa_evasao'] = ((dataset['matriculas_marco'] - dataset['matriculas_novembro']) / dataset['matriculas_marco']) * 100
dataset



