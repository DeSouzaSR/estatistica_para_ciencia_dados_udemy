





import pandas as pd


dataset = pd.read_csv('../data/raw_data/census.csv')


dataset.head()


# Crie um novo dataframe com o pandas utilizando somente esses dois campos
dataset_education_income = dataset[['education', 'income']]

#Utilizar o comando groupby para agrupar os dados baseado nesses dois atributos.
grouped_data = dataset_education_income.groupby(['education', 'income'])['education'].count()


grouped_data.head(10)


# Encontrar o valor relativo de cada item em education 
grouped_data['relative'] = (grouped_data['count'] / grouped_data['count'].sum()) * 100


grouped_data.sample(10)


grouped_data.shape





grouped_data.index


total_bachelors = grouped_data[' Bachelors', ' <=50K'] + grouped_data[' Bachelors', ' >50K']
total_bachelors


print(f'Bachareis com salários acima de 50.000 dolares: {(grouped_data[' Bachelors', ' >50K'] / total_bachelors) * 100:0.2f}%')
print(f'Bachareis com salários abaixo de 50.000 dolares: {(grouped_data[' Bachelors', ' <=50K'] / total_bachelors) * 100:0.2f}%')





total_Doctorate = grouped_data[' Doctorate', ' <=50K'] + grouped_data[' Doctorate', ' >50K']


print(f'Doctorate com salários acima de 50.000 dolares: {(grouped_data[' Doctorate', ' >50K'] / total_Doctorate) * 100:0.2f}%')
print(f'Doctorate com salários abaixo de 50.000 dolares: {(grouped_data[' Doctorate', ' <=50K'] / total_Doctorate) * 100:0.2f}%')
