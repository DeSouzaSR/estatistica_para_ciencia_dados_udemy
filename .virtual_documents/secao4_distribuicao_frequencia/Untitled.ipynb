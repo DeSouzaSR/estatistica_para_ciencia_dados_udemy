





import pandas as pd
from apyori import apriori





dataset = pd.read_csv('../data/raw_data/census.csv')
dataset.head()





dataset['age'] = pd.cut(dataset['age'], bins=[0, 17, 25, 40, 60, 90], labels=['faixa1','faixa2','faixa3','faixa4','faixa5'])


dataset.head()





dataset_apriori = dataset[['age', 'workclass', 'education', 'marital-status', 'relationship', 'occupation', 'sex', 'native-country', 'income']]
dataset_apriori.head()


dataset_apriori.shape





dataset_apriori = dataset_apriori.sample(n = 1000)
dataset_apriori.shape


transacoes = []
for i in range(dataset_apriori.shape[0]):
    transacoes.append([str(dataset_apriori.values[i, j]) for j in range(dataset_apriori.shape[1])])


len(transacoes)


transacoes[:2]


regras = apriori(transacoes, min_support = 0.3, min_confidence = 0.2)
resultados = list(regras)


resultados



