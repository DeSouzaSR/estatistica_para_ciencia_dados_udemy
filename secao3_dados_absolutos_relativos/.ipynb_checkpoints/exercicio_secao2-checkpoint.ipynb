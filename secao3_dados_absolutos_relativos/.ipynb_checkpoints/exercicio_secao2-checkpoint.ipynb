{
 "cells": [
  {
   "cell_type": "markdown",
   "metadata": {},
   "source": [
    "# Exercício\n",
    "O objetivo desta tarefa é encontrar algum tipo de relação entre o atributo education e o atributo income da base de dados do censo.\n",
    "\n",
    "Usar arquivos `census.csv`"
   ]
  },
  {
   "cell_type": "markdown",
   "metadata": {},
   "source": [
    "## Importar arquivo"
   ]
  },
  {
   "cell_type": "code",
   "execution_count": 1,
   "metadata": {},
   "outputs": [],
   "source": [
    "import pandas as pd"
   ]
  },
  {
   "cell_type": "code",
   "execution_count": 2,
   "metadata": {},
   "outputs": [],
   "source": [
    "dataset = pd.read_csv('../data/raw_data/census.csv')"
   ]
  },
  {
   "cell_type": "code",
   "execution_count": 3,
   "metadata": {},
   "outputs": [
    {
     "data": {
      "text/html": [
       "<div>\n",
       "<style scoped>\n",
       "    .dataframe tbody tr th:only-of-type {\n",
       "        vertical-align: middle;\n",
       "    }\n",
       "\n",
       "    .dataframe tbody tr th {\n",
       "        vertical-align: top;\n",
       "    }\n",
       "\n",
       "    .dataframe thead th {\n",
       "        text-align: right;\n",
       "    }\n",
       "</style>\n",
       "<table border=\"1\" class=\"dataframe\">\n",
       "  <thead>\n",
       "    <tr style=\"text-align: right;\">\n",
       "      <th></th>\n",
       "      <th>age</th>\n",
       "      <th>workclass</th>\n",
       "      <th>final-weight</th>\n",
       "      <th>education</th>\n",
       "      <th>education-num</th>\n",
       "      <th>marital-status</th>\n",
       "      <th>occupation</th>\n",
       "      <th>relationship</th>\n",
       "      <th>race</th>\n",
       "      <th>sex</th>\n",
       "      <th>capital-gain</th>\n",
       "      <th>capital-loos</th>\n",
       "      <th>hour-per-week</th>\n",
       "      <th>native-country</th>\n",
       "      <th>income</th>\n",
       "    </tr>\n",
       "  </thead>\n",
       "  <tbody>\n",
       "    <tr>\n",
       "      <th>0</th>\n",
       "      <td>39</td>\n",
       "      <td>State-gov</td>\n",
       "      <td>77516</td>\n",
       "      <td>Bachelors</td>\n",
       "      <td>13</td>\n",
       "      <td>Never-married</td>\n",
       "      <td>Adm-clerical</td>\n",
       "      <td>Not-in-family</td>\n",
       "      <td>White</td>\n",
       "      <td>Male</td>\n",
       "      <td>2174</td>\n",
       "      <td>0</td>\n",
       "      <td>40</td>\n",
       "      <td>United-States</td>\n",
       "      <td>&lt;=50K</td>\n",
       "    </tr>\n",
       "    <tr>\n",
       "      <th>1</th>\n",
       "      <td>50</td>\n",
       "      <td>Self-emp-not-inc</td>\n",
       "      <td>83311</td>\n",
       "      <td>Bachelors</td>\n",
       "      <td>13</td>\n",
       "      <td>Married-civ-spouse</td>\n",
       "      <td>Exec-managerial</td>\n",
       "      <td>Husband</td>\n",
       "      <td>White</td>\n",
       "      <td>Male</td>\n",
       "      <td>0</td>\n",
       "      <td>0</td>\n",
       "      <td>13</td>\n",
       "      <td>United-States</td>\n",
       "      <td>&lt;=50K</td>\n",
       "    </tr>\n",
       "    <tr>\n",
       "      <th>2</th>\n",
       "      <td>38</td>\n",
       "      <td>Private</td>\n",
       "      <td>215646</td>\n",
       "      <td>HS-grad</td>\n",
       "      <td>9</td>\n",
       "      <td>Divorced</td>\n",
       "      <td>Handlers-cleaners</td>\n",
       "      <td>Not-in-family</td>\n",
       "      <td>White</td>\n",
       "      <td>Male</td>\n",
       "      <td>0</td>\n",
       "      <td>0</td>\n",
       "      <td>40</td>\n",
       "      <td>United-States</td>\n",
       "      <td>&lt;=50K</td>\n",
       "    </tr>\n",
       "    <tr>\n",
       "      <th>3</th>\n",
       "      <td>53</td>\n",
       "      <td>Private</td>\n",
       "      <td>234721</td>\n",
       "      <td>11th</td>\n",
       "      <td>7</td>\n",
       "      <td>Married-civ-spouse</td>\n",
       "      <td>Handlers-cleaners</td>\n",
       "      <td>Husband</td>\n",
       "      <td>Black</td>\n",
       "      <td>Male</td>\n",
       "      <td>0</td>\n",
       "      <td>0</td>\n",
       "      <td>40</td>\n",
       "      <td>United-States</td>\n",
       "      <td>&lt;=50K</td>\n",
       "    </tr>\n",
       "    <tr>\n",
       "      <th>4</th>\n",
       "      <td>28</td>\n",
       "      <td>Private</td>\n",
       "      <td>338409</td>\n",
       "      <td>Bachelors</td>\n",
       "      <td>13</td>\n",
       "      <td>Married-civ-spouse</td>\n",
       "      <td>Prof-specialty</td>\n",
       "      <td>Wife</td>\n",
       "      <td>Black</td>\n",
       "      <td>Female</td>\n",
       "      <td>0</td>\n",
       "      <td>0</td>\n",
       "      <td>40</td>\n",
       "      <td>Cuba</td>\n",
       "      <td>&lt;=50K</td>\n",
       "    </tr>\n",
       "  </tbody>\n",
       "</table>\n",
       "</div>"
      ],
      "text/plain": [
       "   age          workclass  final-weight   education  education-num  \\\n",
       "0   39          State-gov         77516   Bachelors             13   \n",
       "1   50   Self-emp-not-inc         83311   Bachelors             13   \n",
       "2   38            Private        215646     HS-grad              9   \n",
       "3   53            Private        234721        11th              7   \n",
       "4   28            Private        338409   Bachelors             13   \n",
       "\n",
       "        marital-status          occupation    relationship    race      sex  \\\n",
       "0        Never-married        Adm-clerical   Not-in-family   White     Male   \n",
       "1   Married-civ-spouse     Exec-managerial         Husband   White     Male   \n",
       "2             Divorced   Handlers-cleaners   Not-in-family   White     Male   \n",
       "3   Married-civ-spouse   Handlers-cleaners         Husband   Black     Male   \n",
       "4   Married-civ-spouse      Prof-specialty            Wife   Black   Female   \n",
       "\n",
       "   capital-gain  capital-loos  hour-per-week  native-country  income  \n",
       "0          2174             0             40   United-States   <=50K  \n",
       "1             0             0             13   United-States   <=50K  \n",
       "2             0             0             40   United-States   <=50K  \n",
       "3             0             0             40   United-States   <=50K  \n",
       "4             0             0             40            Cuba   <=50K  "
      ]
     },
     "execution_count": 3,
     "metadata": {},
     "output_type": "execute_result"
    }
   ],
   "source": [
    "dataset.head()"
   ]
  },
  {
   "cell_type": "code",
   "execution_count": 9,
   "metadata": {},
   "outputs": [],
   "source": [
    "# Crie um novo dataframe com o pandas utilizando somente esses dois campos\n",
    "dataset_education_income = dataset[['education', 'income']]\n",
    "\n",
    "#Utilizar o comando groupby para agrupar os dados baseado nesses dois atributos.\n",
    "grouped_data = dataset_education_income.groupby(['education', 'income'])['education'].count()"
   ]
  },
  {
   "cell_type": "code",
   "execution_count": 13,
   "metadata": {},
   "outputs": [
    {
     "data": {
      "text/plain": [
       "education  income\n",
       "10th       <=50K      871\n",
       "           >50K        62\n",
       "11th       <=50K     1115\n",
       "           >50K        60\n",
       "12th       <=50K      400\n",
       "           >50K        33\n",
       "1st-4th    <=50K      162\n",
       "           >50K         6\n",
       "5th-6th    <=50K      317\n",
       "           >50K        16\n",
       "Name: education, dtype: int64"
      ]
     },
     "execution_count": 13,
     "metadata": {},
     "output_type": "execute_result"
    }
   ],
   "source": [
    "grouped_data.head(10)"
   ]
  },
  {
   "cell_type": "code",
   "execution_count": 6,
   "metadata": {},
   "outputs": [],
   "source": [
    "# Encontrar o valor relativo de cada item em education \n",
    "grouped_data['relative'] = (grouped_data['count'] / grouped_data['count'].sum()) * 100"
   ]
  },
  {
   "cell_type": "code",
   "execution_count": 7,
   "metadata": {},
   "outputs": [
    {
     "data": {
      "text/html": [
       "<div>\n",
       "<style scoped>\n",
       "    .dataframe tbody tr th:only-of-type {\n",
       "        vertical-align: middle;\n",
       "    }\n",
       "\n",
       "    .dataframe tbody tr th {\n",
       "        vertical-align: top;\n",
       "    }\n",
       "\n",
       "    .dataframe thead th {\n",
       "        text-align: right;\n",
       "    }\n",
       "</style>\n",
       "<table border=\"1\" class=\"dataframe\">\n",
       "  <thead>\n",
       "    <tr style=\"text-align: right;\">\n",
       "      <th></th>\n",
       "      <th>education</th>\n",
       "      <th>income</th>\n",
       "      <th>count</th>\n",
       "      <th>relative</th>\n",
       "    </tr>\n",
       "  </thead>\n",
       "  <tbody>\n",
       "    <tr>\n",
       "      <th>15</th>\n",
       "      <td>Assoc-acdm</td>\n",
       "      <td>&gt;50K</td>\n",
       "      <td>265</td>\n",
       "      <td>0.813857</td>\n",
       "    </tr>\n",
       "    <tr>\n",
       "      <th>24</th>\n",
       "      <td>Masters</td>\n",
       "      <td>&lt;=50K</td>\n",
       "      <td>764</td>\n",
       "      <td>2.346365</td>\n",
       "    </tr>\n",
       "    <tr>\n",
       "      <th>6</th>\n",
       "      <td>1st-4th</td>\n",
       "      <td>&lt;=50K</td>\n",
       "      <td>162</td>\n",
       "      <td>0.497528</td>\n",
       "    </tr>\n",
       "    <tr>\n",
       "      <th>10</th>\n",
       "      <td>7th-8th</td>\n",
       "      <td>&lt;=50K</td>\n",
       "      <td>606</td>\n",
       "      <td>1.861122</td>\n",
       "    </tr>\n",
       "    <tr>\n",
       "      <th>30</th>\n",
       "      <td>Some-college</td>\n",
       "      <td>&gt;50K</td>\n",
       "      <td>1387</td>\n",
       "      <td>4.259697</td>\n",
       "    </tr>\n",
       "    <tr>\n",
       "      <th>13</th>\n",
       "      <td>9th</td>\n",
       "      <td>&gt;50K</td>\n",
       "      <td>27</td>\n",
       "      <td>0.082921</td>\n",
       "    </tr>\n",
       "    <tr>\n",
       "      <th>21</th>\n",
       "      <td>Doctorate</td>\n",
       "      <td>&gt;50K</td>\n",
       "      <td>306</td>\n",
       "      <td>0.939775</td>\n",
       "    </tr>\n",
       "    <tr>\n",
       "      <th>28</th>\n",
       "      <td>Prof-school</td>\n",
       "      <td>&gt;50K</td>\n",
       "      <td>423</td>\n",
       "      <td>1.299100</td>\n",
       "    </tr>\n",
       "    <tr>\n",
       "      <th>9</th>\n",
       "      <td>5th-6th</td>\n",
       "      <td>&gt;50K</td>\n",
       "      <td>16</td>\n",
       "      <td>0.049139</td>\n",
       "    </tr>\n",
       "    <tr>\n",
       "      <th>12</th>\n",
       "      <td>9th</td>\n",
       "      <td>&lt;=50K</td>\n",
       "      <td>487</td>\n",
       "      <td>1.495654</td>\n",
       "    </tr>\n",
       "  </tbody>\n",
       "</table>\n",
       "</div>"
      ],
      "text/plain": [
       "        education  income  count  relative\n",
       "15     Assoc-acdm    >50K    265  0.813857\n",
       "24        Masters   <=50K    764  2.346365\n",
       "6         1st-4th   <=50K    162  0.497528\n",
       "10        7th-8th   <=50K    606  1.861122\n",
       "30   Some-college    >50K   1387  4.259697\n",
       "13            9th    >50K     27  0.082921\n",
       "21      Doctorate    >50K    306  0.939775\n",
       "28    Prof-school    >50K    423  1.299100\n",
       "9         5th-6th    >50K     16  0.049139\n",
       "12            9th   <=50K    487  1.495654"
      ]
     },
     "execution_count": 7,
     "metadata": {},
     "output_type": "execute_result"
    }
   ],
   "source": [
    "grouped_data.sample(10)"
   ]
  },
  {
   "cell_type": "code",
   "execution_count": 8,
   "metadata": {},
   "outputs": [
    {
     "data": {
      "text/plain": [
       "(31, 4)"
      ]
     },
     "execution_count": 8,
     "metadata": {},
     "output_type": "execute_result"
    }
   ],
   "source": [
    "grouped_data.shape"
   ]
  },
  {
   "cell_type": "markdown",
   "metadata": {},
   "source": [
    "# Valores relativos ao bacharelado"
   ]
  },
  {
   "cell_type": "code",
   "execution_count": 14,
   "metadata": {},
   "outputs": [
    {
     "data": {
      "text/plain": [
       "MultiIndex([(        ' 10th', ' <=50K'),\n",
       "            (        ' 10th',  ' >50K'),\n",
       "            (        ' 11th', ' <=50K'),\n",
       "            (        ' 11th',  ' >50K'),\n",
       "            (        ' 12th', ' <=50K'),\n",
       "            (        ' 12th',  ' >50K'),\n",
       "            (     ' 1st-4th', ' <=50K'),\n",
       "            (     ' 1st-4th',  ' >50K'),\n",
       "            (     ' 5th-6th', ' <=50K'),\n",
       "            (     ' 5th-6th',  ' >50K'),\n",
       "            (     ' 7th-8th', ' <=50K'),\n",
       "            (     ' 7th-8th',  ' >50K'),\n",
       "            (         ' 9th', ' <=50K'),\n",
       "            (         ' 9th',  ' >50K'),\n",
       "            (  ' Assoc-acdm', ' <=50K'),\n",
       "            (  ' Assoc-acdm',  ' >50K'),\n",
       "            (   ' Assoc-voc', ' <=50K'),\n",
       "            (   ' Assoc-voc',  ' >50K'),\n",
       "            (   ' Bachelors', ' <=50K'),\n",
       "            (   ' Bachelors',  ' >50K'),\n",
       "            (   ' Doctorate', ' <=50K'),\n",
       "            (   ' Doctorate',  ' >50K'),\n",
       "            (     ' HS-grad', ' <=50K'),\n",
       "            (     ' HS-grad',  ' >50K'),\n",
       "            (     ' Masters', ' <=50K'),\n",
       "            (     ' Masters',  ' >50K'),\n",
       "            (   ' Preschool', ' <=50K'),\n",
       "            ( ' Prof-school', ' <=50K'),\n",
       "            ( ' Prof-school',  ' >50K'),\n",
       "            (' Some-college', ' <=50K'),\n",
       "            (' Some-college',  ' >50K')],\n",
       "           names=['education', 'income'])"
      ]
     },
     "execution_count": 14,
     "metadata": {},
     "output_type": "execute_result"
    }
   ],
   "source": [
    "grouped_data.index"
   ]
  },
  {
   "cell_type": "code",
   "execution_count": 15,
   "metadata": {},
   "outputs": [
    {
     "data": {
      "text/plain": [
       "5355"
      ]
     },
     "execution_count": 15,
     "metadata": {},
     "output_type": "execute_result"
    }
   ],
   "source": [
    "total_bachelors = grouped_data[' Bachelors', ' <=50K'] + grouped_data[' Bachelors', ' >50K']\n",
    "total_bachelors"
   ]
  },
  {
   "cell_type": "code",
   "execution_count": 23,
   "metadata": {},
   "outputs": [
    {
     "name": "stdout",
     "output_type": "stream",
     "text": [
      "Bachareis com salários acima de 50.000 dolares: 41.48%\n",
      "Bachareis com salários abaixo de 50.000 dolares: 58.52%\n"
     ]
    }
   ],
   "source": [
    "print(f'Bachareis com salários acima de 50.000 dolares: {(grouped_data[' Bachelors', ' >50K'] / total_bachelors) * 100:0.2f}%')\n",
    "print(f'Bachareis com salários abaixo de 50.000 dolares: {(grouped_data[' Bachelors', ' <=50K'] / total_bachelors) * 100:0.2f}%')"
   ]
  },
  {
   "cell_type": "markdown",
   "metadata": {},
   "source": [
    "# Valores relativos ao Doutorado"
   ]
  },
  {
   "cell_type": "code",
   "execution_count": null,
   "metadata": {},
   "outputs": [],
   "source": [
    "total_Doctorate = grouped_data[' Doctorate', ' <=50K'] + grouped_data[' Doctorate', ' >50K']"
   ]
  },
  {
   "cell_type": "code",
   "execution_count": null,
   "metadata": {},
   "outputs": [
    {
     "name": "stdout",
     "output_type": "stream",
     "text": [
      "Doctorate com salários acima de 50.000 dolares: 74.09%\n",
      "Doctorate com salários abaixo de 50.000 dolares: 25.91%\n"
     ]
    }
   ],
   "source": [
    "print(f'Doctorate com salários acima de 50.000 dolares: {(grouped_data[' Doctorate', ' >50K'] / total_Doctorate) * 100:0.2f}%')\n",
    "print(f'Doctorate com salários abaixo de 50.000 dolares: {(grouped_data[' Doctorate', ' <=50K'] / total_Doctorate) * 100:0.2f}%')"
   ]
  }
 ],
 "metadata": {
  "kernelspec": {
   "display_name": "Python 3 (ipykernel)",
   "language": "python",
   "name": "python3"
  },
  "language_info": {
   "codemirror_mode": {
    "name": "ipython",
    "version": 3
   },
   "file_extension": ".py",
   "mimetype": "text/x-python",
   "name": "python",
   "nbconvert_exporter": "python",
   "pygments_lexer": "ipython3",
   "version": "3.12.3"
  }
 },
 "nbformat": 4,
 "nbformat_minor": 4
}
