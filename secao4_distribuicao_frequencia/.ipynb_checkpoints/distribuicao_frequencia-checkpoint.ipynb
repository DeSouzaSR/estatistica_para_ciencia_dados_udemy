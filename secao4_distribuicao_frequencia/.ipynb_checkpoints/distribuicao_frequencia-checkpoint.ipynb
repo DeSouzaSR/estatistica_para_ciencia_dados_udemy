{
 "cells": [
  {
   "cell_type": "markdown",
   "id": "3907002c-268a-438b-a008-d041d2b14c3a",
   "metadata": {},
   "source": [
    "<h1><center>Distribuição de frequência</center></h1>"
   ]
  },
  {
   "cell_type": "markdown",
   "id": "36ba8c31-42ad-4909-a2f8-0d81e54bcb33",
   "metadata": {},
   "source": [
    "# Importando módulos"
   ]
  },
  {
   "cell_type": "code",
   "execution_count": 1,
   "id": "db71ded3-8b0f-44ef-851d-0823fe4f071f",
   "metadata": {},
   "outputs": [],
   "source": [
    "import matplotlib.pyplot as plt\n",
    "import numpy as np\n",
    "import seaborn as sns\n",
    "import pandas as pd"
   ]
  },
  {
   "cell_type": "markdown",
   "id": "3066da06-58dc-47d2-bef0-39542981a8c9",
   "metadata": {},
   "source": [
    "# Preparando dados"
   ]
  },
  {
   "cell_type": "code",
   "execution_count": 2,
   "id": "82b50d57-4178-46c3-85d5-7e739ac32825",
   "metadata": {},
   "outputs": [],
   "source": [
    "dados = np.array([160, 165, 167, 164, 160, 166, 160, 161, 150, 152, 173, 160, 155,\n",
    "                  164, 168, 162, 161, 168, 163, 156, 155, 169, 151, 170, 164,\n",
    "                  155, 152, 163, 160, 155, 157, 156, 158, 158, 161, 154, 161, 156, 172, 153])"
   ]
  },
  {
   "cell_type": "markdown",
   "id": "89916749-694d-4db3-85af-85945af8f36e",
   "metadata": {},
   "source": [
    "# Ordenação"
   ]
  },
  {
   "cell_type": "code",
   "execution_count": 3,
   "id": "cf4245df-ac2a-471c-8af0-3fc628678d32",
   "metadata": {},
   "outputs": [
    {
     "data": {
      "text/plain": [
       "array([150, 151, 152, 152, 153, 154, 155, 155, 155, 155, 156, 156, 156,\n",
       "       157, 158, 158, 160, 160, 160, 160, 160, 161, 161, 161, 161, 162,\n",
       "       163, 163, 164, 164, 164, 165, 166, 167, 168, 168, 169, 170, 172,\n",
       "       173])"
      ]
     },
     "execution_count": 3,
     "metadata": {},
     "output_type": "execute_result"
    }
   ],
   "source": [
    "dados = np.sort(dados)\n",
    "dados"
   ]
  },
  {
   "cell_type": "markdown",
   "id": "59efc77d-ddaf-4136-b14a-27d319cd194a",
   "metadata": {},
   "source": [
    "# Número de classes"
   ]
  },
  {
   "cell_type": "markdown",
   "id": "49b02f94-e109-47fe-97b5-fe0c658cd065",
   "metadata": {},
   "source": [
    "# Amplitude do intervalo"
   ]
  },
  {
   "cell_type": "markdown",
   "id": "6663c37a-3f27-4c0c-97f1-26f9ee04bbe8",
   "metadata": {},
   "source": [
    "# Construção da distribuição de frequência"
   ]
  },
  {
   "cell_type": "markdown",
   "id": "fb4dfe53-050d-4957-a4b2-f8fd6d9f607b",
   "metadata": {},
   "source": [
    "# Distribuição de frequência e histograma com numpy e matplotlib"
   ]
  },
  {
   "cell_type": "code",
   "execution_count": null,
   "id": "65412279-ed45-497b-9282-170c9d2b63f3",
   "metadata": {},
   "outputs": [],
   "source": []
  }
 ],
 "metadata": {
  "kernelspec": {
   "display_name": "Python 3 (ipykernel)",
   "language": "python",
   "name": "python3"
  },
  "language_info": {
   "codemirror_mode": {
    "name": "ipython",
    "version": 3
   },
   "file_extension": ".py",
   "mimetype": "text/x-python",
   "name": "python",
   "nbconvert_exporter": "python",
   "pygments_lexer": "ipython3",
   "version": "3.12.3"
  }
 },
 "nbformat": 4,
 "nbformat_minor": 5
}
