{
 "cells": [
  {
   "cell_type": "markdown",
   "id": "ac04bbae-030e-452b-857a-ca9cbd93c1bb",
   "metadata": {},
   "source": [
    "# Regras de associação usando algoritmo Apriori"
   ]
  },
  {
   "cell_type": "markdown",
   "id": "965ac622-36ea-4215-a81c-a3d5d7162f14",
   "metadata": {},
   "source": [
    "## Importação das bibliotecas"
   ]
  },
  {
   "cell_type": "code",
   "execution_count": 19,
   "id": "c8f3af11-1fb2-41db-b711-b0e08eb3364c",
   "metadata": {},
   "outputs": [],
   "source": [
    "import pandas as pd\n",
    "from apyori import apriori"
   ]
  },
  {
   "cell_type": "markdown",
   "id": "7415a337-b247-4443-a7c6-a00280abc7fc",
   "metadata": {},
   "source": [
    "## Importação dos dados"
   ]
  },
  {
   "cell_type": "code",
   "execution_count": 20,
   "id": "0d895668-55db-44df-9679-6f36df135384",
   "metadata": {},
   "outputs": [
    {
     "data": {
      "text/html": [
       "<div>\n",
       "<style scoped>\n",
       "    .dataframe tbody tr th:only-of-type {\n",
       "        vertical-align: middle;\n",
       "    }\n",
       "\n",
       "    .dataframe tbody tr th {\n",
       "        vertical-align: top;\n",
       "    }\n",
       "\n",
       "    .dataframe thead th {\n",
       "        text-align: right;\n",
       "    }\n",
       "</style>\n",
       "<table border=\"1\" class=\"dataframe\">\n",
       "  <thead>\n",
       "    <tr style=\"text-align: right;\">\n",
       "      <th></th>\n",
       "      <th>age</th>\n",
       "      <th>workclass</th>\n",
       "      <th>final-weight</th>\n",
       "      <th>education</th>\n",
       "      <th>education-num</th>\n",
       "      <th>marital-status</th>\n",
       "      <th>occupation</th>\n",
       "      <th>relationship</th>\n",
       "      <th>race</th>\n",
       "      <th>sex</th>\n",
       "      <th>capital-gain</th>\n",
       "      <th>capital-loos</th>\n",
       "      <th>hour-per-week</th>\n",
       "      <th>native-country</th>\n",
       "      <th>income</th>\n",
       "    </tr>\n",
       "  </thead>\n",
       "  <tbody>\n",
       "    <tr>\n",
       "      <th>0</th>\n",
       "      <td>39</td>\n",
       "      <td>State-gov</td>\n",
       "      <td>77516</td>\n",
       "      <td>Bachelors</td>\n",
       "      <td>13</td>\n",
       "      <td>Never-married</td>\n",
       "      <td>Adm-clerical</td>\n",
       "      <td>Not-in-family</td>\n",
       "      <td>White</td>\n",
       "      <td>Male</td>\n",
       "      <td>2174</td>\n",
       "      <td>0</td>\n",
       "      <td>40</td>\n",
       "      <td>United-States</td>\n",
       "      <td>&lt;=50K</td>\n",
       "    </tr>\n",
       "    <tr>\n",
       "      <th>1</th>\n",
       "      <td>50</td>\n",
       "      <td>Self-emp-not-inc</td>\n",
       "      <td>83311</td>\n",
       "      <td>Bachelors</td>\n",
       "      <td>13</td>\n",
       "      <td>Married-civ-spouse</td>\n",
       "      <td>Exec-managerial</td>\n",
       "      <td>Husband</td>\n",
       "      <td>White</td>\n",
       "      <td>Male</td>\n",
       "      <td>0</td>\n",
       "      <td>0</td>\n",
       "      <td>13</td>\n",
       "      <td>United-States</td>\n",
       "      <td>&lt;=50K</td>\n",
       "    </tr>\n",
       "    <tr>\n",
       "      <th>2</th>\n",
       "      <td>38</td>\n",
       "      <td>Private</td>\n",
       "      <td>215646</td>\n",
       "      <td>HS-grad</td>\n",
       "      <td>9</td>\n",
       "      <td>Divorced</td>\n",
       "      <td>Handlers-cleaners</td>\n",
       "      <td>Not-in-family</td>\n",
       "      <td>White</td>\n",
       "      <td>Male</td>\n",
       "      <td>0</td>\n",
       "      <td>0</td>\n",
       "      <td>40</td>\n",
       "      <td>United-States</td>\n",
       "      <td>&lt;=50K</td>\n",
       "    </tr>\n",
       "    <tr>\n",
       "      <th>3</th>\n",
       "      <td>53</td>\n",
       "      <td>Private</td>\n",
       "      <td>234721</td>\n",
       "      <td>11th</td>\n",
       "      <td>7</td>\n",
       "      <td>Married-civ-spouse</td>\n",
       "      <td>Handlers-cleaners</td>\n",
       "      <td>Husband</td>\n",
       "      <td>Black</td>\n",
       "      <td>Male</td>\n",
       "      <td>0</td>\n",
       "      <td>0</td>\n",
       "      <td>40</td>\n",
       "      <td>United-States</td>\n",
       "      <td>&lt;=50K</td>\n",
       "    </tr>\n",
       "    <tr>\n",
       "      <th>4</th>\n",
       "      <td>28</td>\n",
       "      <td>Private</td>\n",
       "      <td>338409</td>\n",
       "      <td>Bachelors</td>\n",
       "      <td>13</td>\n",
       "      <td>Married-civ-spouse</td>\n",
       "      <td>Prof-specialty</td>\n",
       "      <td>Wife</td>\n",
       "      <td>Black</td>\n",
       "      <td>Female</td>\n",
       "      <td>0</td>\n",
       "      <td>0</td>\n",
       "      <td>40</td>\n",
       "      <td>Cuba</td>\n",
       "      <td>&lt;=50K</td>\n",
       "    </tr>\n",
       "  </tbody>\n",
       "</table>\n",
       "</div>"
      ],
      "text/plain": [
       "   age          workclass  final-weight   education  education-num  \\\n",
       "0   39          State-gov         77516   Bachelors             13   \n",
       "1   50   Self-emp-not-inc         83311   Bachelors             13   \n",
       "2   38            Private        215646     HS-grad              9   \n",
       "3   53            Private        234721        11th              7   \n",
       "4   28            Private        338409   Bachelors             13   \n",
       "\n",
       "        marital-status          occupation    relationship    race      sex  \\\n",
       "0        Never-married        Adm-clerical   Not-in-family   White     Male   \n",
       "1   Married-civ-spouse     Exec-managerial         Husband   White     Male   \n",
       "2             Divorced   Handlers-cleaners   Not-in-family   White     Male   \n",
       "3   Married-civ-spouse   Handlers-cleaners         Husband   Black     Male   \n",
       "4   Married-civ-spouse      Prof-specialty            Wife   Black   Female   \n",
       "\n",
       "   capital-gain  capital-loos  hour-per-week  native-country  income  \n",
       "0          2174             0             40   United-States   <=50K  \n",
       "1             0             0             13   United-States   <=50K  \n",
       "2             0             0             40   United-States   <=50K  \n",
       "3             0             0             40   United-States   <=50K  \n",
       "4             0             0             40            Cuba   <=50K  "
      ]
     },
     "execution_count": 20,
     "metadata": {},
     "output_type": "execute_result"
    }
   ],
   "source": [
    "dataset = pd.read_csv('../data/raw_data/census.csv')\n",
    "dataset.head()"
   ]
  },
  {
   "cell_type": "markdown",
   "id": "e5c1513d-787f-45eb-8630-07ce76f821b5",
   "metadata": {},
   "source": [
    "## Transformando variáveis numéricas em categóricas"
   ]
  },
  {
   "cell_type": "code",
   "execution_count": 21,
   "id": "60316de5-70d3-4989-97ce-e45336d8a1d6",
   "metadata": {},
   "outputs": [],
   "source": [
    "dataset['age'] = pd.cut(dataset['age'], bins=[0, 17, 25, 40, 60, 90], labels=['faixa1','faixa2','faixa3','faixa4','faixa5'])"
   ]
  },
  {
   "cell_type": "code",
   "execution_count": 22,
   "id": "a4a48a5b-aec9-4782-a51d-209a01b5939e",
   "metadata": {},
   "outputs": [
    {
     "data": {
      "text/html": [
       "<div>\n",
       "<style scoped>\n",
       "    .dataframe tbody tr th:only-of-type {\n",
       "        vertical-align: middle;\n",
       "    }\n",
       "\n",
       "    .dataframe tbody tr th {\n",
       "        vertical-align: top;\n",
       "    }\n",
       "\n",
       "    .dataframe thead th {\n",
       "        text-align: right;\n",
       "    }\n",
       "</style>\n",
       "<table border=\"1\" class=\"dataframe\">\n",
       "  <thead>\n",
       "    <tr style=\"text-align: right;\">\n",
       "      <th></th>\n",
       "      <th>age</th>\n",
       "      <th>workclass</th>\n",
       "      <th>final-weight</th>\n",
       "      <th>education</th>\n",
       "      <th>education-num</th>\n",
       "      <th>marital-status</th>\n",
       "      <th>occupation</th>\n",
       "      <th>relationship</th>\n",
       "      <th>race</th>\n",
       "      <th>sex</th>\n",
       "      <th>capital-gain</th>\n",
       "      <th>capital-loos</th>\n",
       "      <th>hour-per-week</th>\n",
       "      <th>native-country</th>\n",
       "      <th>income</th>\n",
       "    </tr>\n",
       "  </thead>\n",
       "  <tbody>\n",
       "    <tr>\n",
       "      <th>0</th>\n",
       "      <td>faixa3</td>\n",
       "      <td>State-gov</td>\n",
       "      <td>77516</td>\n",
       "      <td>Bachelors</td>\n",
       "      <td>13</td>\n",
       "      <td>Never-married</td>\n",
       "      <td>Adm-clerical</td>\n",
       "      <td>Not-in-family</td>\n",
       "      <td>White</td>\n",
       "      <td>Male</td>\n",
       "      <td>2174</td>\n",
       "      <td>0</td>\n",
       "      <td>40</td>\n",
       "      <td>United-States</td>\n",
       "      <td>&lt;=50K</td>\n",
       "    </tr>\n",
       "    <tr>\n",
       "      <th>1</th>\n",
       "      <td>faixa4</td>\n",
       "      <td>Self-emp-not-inc</td>\n",
       "      <td>83311</td>\n",
       "      <td>Bachelors</td>\n",
       "      <td>13</td>\n",
       "      <td>Married-civ-spouse</td>\n",
       "      <td>Exec-managerial</td>\n",
       "      <td>Husband</td>\n",
       "      <td>White</td>\n",
       "      <td>Male</td>\n",
       "      <td>0</td>\n",
       "      <td>0</td>\n",
       "      <td>13</td>\n",
       "      <td>United-States</td>\n",
       "      <td>&lt;=50K</td>\n",
       "    </tr>\n",
       "    <tr>\n",
       "      <th>2</th>\n",
       "      <td>faixa3</td>\n",
       "      <td>Private</td>\n",
       "      <td>215646</td>\n",
       "      <td>HS-grad</td>\n",
       "      <td>9</td>\n",
       "      <td>Divorced</td>\n",
       "      <td>Handlers-cleaners</td>\n",
       "      <td>Not-in-family</td>\n",
       "      <td>White</td>\n",
       "      <td>Male</td>\n",
       "      <td>0</td>\n",
       "      <td>0</td>\n",
       "      <td>40</td>\n",
       "      <td>United-States</td>\n",
       "      <td>&lt;=50K</td>\n",
       "    </tr>\n",
       "    <tr>\n",
       "      <th>3</th>\n",
       "      <td>faixa4</td>\n",
       "      <td>Private</td>\n",
       "      <td>234721</td>\n",
       "      <td>11th</td>\n",
       "      <td>7</td>\n",
       "      <td>Married-civ-spouse</td>\n",
       "      <td>Handlers-cleaners</td>\n",
       "      <td>Husband</td>\n",
       "      <td>Black</td>\n",
       "      <td>Male</td>\n",
       "      <td>0</td>\n",
       "      <td>0</td>\n",
       "      <td>40</td>\n",
       "      <td>United-States</td>\n",
       "      <td>&lt;=50K</td>\n",
       "    </tr>\n",
       "    <tr>\n",
       "      <th>4</th>\n",
       "      <td>faixa3</td>\n",
       "      <td>Private</td>\n",
       "      <td>338409</td>\n",
       "      <td>Bachelors</td>\n",
       "      <td>13</td>\n",
       "      <td>Married-civ-spouse</td>\n",
       "      <td>Prof-specialty</td>\n",
       "      <td>Wife</td>\n",
       "      <td>Black</td>\n",
       "      <td>Female</td>\n",
       "      <td>0</td>\n",
       "      <td>0</td>\n",
       "      <td>40</td>\n",
       "      <td>Cuba</td>\n",
       "      <td>&lt;=50K</td>\n",
       "    </tr>\n",
       "  </tbody>\n",
       "</table>\n",
       "</div>"
      ],
      "text/plain": [
       "      age          workclass  final-weight   education  education-num  \\\n",
       "0  faixa3          State-gov         77516   Bachelors             13   \n",
       "1  faixa4   Self-emp-not-inc         83311   Bachelors             13   \n",
       "2  faixa3            Private        215646     HS-grad              9   \n",
       "3  faixa4            Private        234721        11th              7   \n",
       "4  faixa3            Private        338409   Bachelors             13   \n",
       "\n",
       "        marital-status          occupation    relationship    race      sex  \\\n",
       "0        Never-married        Adm-clerical   Not-in-family   White     Male   \n",
       "1   Married-civ-spouse     Exec-managerial         Husband   White     Male   \n",
       "2             Divorced   Handlers-cleaners   Not-in-family   White     Male   \n",
       "3   Married-civ-spouse   Handlers-cleaners         Husband   Black     Male   \n",
       "4   Married-civ-spouse      Prof-specialty            Wife   Black   Female   \n",
       "\n",
       "   capital-gain  capital-loos  hour-per-week  native-country  income  \n",
       "0          2174             0             40   United-States   <=50K  \n",
       "1             0             0             13   United-States   <=50K  \n",
       "2             0             0             40   United-States   <=50K  \n",
       "3             0             0             40   United-States   <=50K  \n",
       "4             0             0             40            Cuba   <=50K  "
      ]
     },
     "execution_count": 22,
     "metadata": {},
     "output_type": "execute_result"
    }
   ],
   "source": [
    "dataset.head()"
   ]
  },
  {
   "cell_type": "markdown",
   "id": "17971394-c588-40a3-a215-9b9ff20099a7",
   "metadata": {},
   "source": [
    "## Selecionando variávies categóricas"
   ]
  },
  {
   "cell_type": "code",
   "execution_count": 23,
   "id": "a54caf15-e5d6-458f-b183-162185f18d2b",
   "metadata": {},
   "outputs": [
    {
     "data": {
      "text/html": [
       "<div>\n",
       "<style scoped>\n",
       "    .dataframe tbody tr th:only-of-type {\n",
       "        vertical-align: middle;\n",
       "    }\n",
       "\n",
       "    .dataframe tbody tr th {\n",
       "        vertical-align: top;\n",
       "    }\n",
       "\n",
       "    .dataframe thead th {\n",
       "        text-align: right;\n",
       "    }\n",
       "</style>\n",
       "<table border=\"1\" class=\"dataframe\">\n",
       "  <thead>\n",
       "    <tr style=\"text-align: right;\">\n",
       "      <th></th>\n",
       "      <th>age</th>\n",
       "      <th>workclass</th>\n",
       "      <th>education</th>\n",
       "      <th>marital-status</th>\n",
       "      <th>relationship</th>\n",
       "      <th>occupation</th>\n",
       "      <th>sex</th>\n",
       "      <th>native-country</th>\n",
       "      <th>income</th>\n",
       "    </tr>\n",
       "  </thead>\n",
       "  <tbody>\n",
       "    <tr>\n",
       "      <th>0</th>\n",
       "      <td>faixa3</td>\n",
       "      <td>State-gov</td>\n",
       "      <td>Bachelors</td>\n",
       "      <td>Never-married</td>\n",
       "      <td>Not-in-family</td>\n",
       "      <td>Adm-clerical</td>\n",
       "      <td>Male</td>\n",
       "      <td>United-States</td>\n",
       "      <td>&lt;=50K</td>\n",
       "    </tr>\n",
       "    <tr>\n",
       "      <th>1</th>\n",
       "      <td>faixa4</td>\n",
       "      <td>Self-emp-not-inc</td>\n",
       "      <td>Bachelors</td>\n",
       "      <td>Married-civ-spouse</td>\n",
       "      <td>Husband</td>\n",
       "      <td>Exec-managerial</td>\n",
       "      <td>Male</td>\n",
       "      <td>United-States</td>\n",
       "      <td>&lt;=50K</td>\n",
       "    </tr>\n",
       "    <tr>\n",
       "      <th>2</th>\n",
       "      <td>faixa3</td>\n",
       "      <td>Private</td>\n",
       "      <td>HS-grad</td>\n",
       "      <td>Divorced</td>\n",
       "      <td>Not-in-family</td>\n",
       "      <td>Handlers-cleaners</td>\n",
       "      <td>Male</td>\n",
       "      <td>United-States</td>\n",
       "      <td>&lt;=50K</td>\n",
       "    </tr>\n",
       "    <tr>\n",
       "      <th>3</th>\n",
       "      <td>faixa4</td>\n",
       "      <td>Private</td>\n",
       "      <td>11th</td>\n",
       "      <td>Married-civ-spouse</td>\n",
       "      <td>Husband</td>\n",
       "      <td>Handlers-cleaners</td>\n",
       "      <td>Male</td>\n",
       "      <td>United-States</td>\n",
       "      <td>&lt;=50K</td>\n",
       "    </tr>\n",
       "    <tr>\n",
       "      <th>4</th>\n",
       "      <td>faixa3</td>\n",
       "      <td>Private</td>\n",
       "      <td>Bachelors</td>\n",
       "      <td>Married-civ-spouse</td>\n",
       "      <td>Wife</td>\n",
       "      <td>Prof-specialty</td>\n",
       "      <td>Female</td>\n",
       "      <td>Cuba</td>\n",
       "      <td>&lt;=50K</td>\n",
       "    </tr>\n",
       "  </tbody>\n",
       "</table>\n",
       "</div>"
      ],
      "text/plain": [
       "      age          workclass   education       marital-status    relationship  \\\n",
       "0  faixa3          State-gov   Bachelors        Never-married   Not-in-family   \n",
       "1  faixa4   Self-emp-not-inc   Bachelors   Married-civ-spouse         Husband   \n",
       "2  faixa3            Private     HS-grad             Divorced   Not-in-family   \n",
       "3  faixa4            Private        11th   Married-civ-spouse         Husband   \n",
       "4  faixa3            Private   Bachelors   Married-civ-spouse            Wife   \n",
       "\n",
       "           occupation      sex  native-country  income  \n",
       "0        Adm-clerical     Male   United-States   <=50K  \n",
       "1     Exec-managerial     Male   United-States   <=50K  \n",
       "2   Handlers-cleaners     Male   United-States   <=50K  \n",
       "3   Handlers-cleaners     Male   United-States   <=50K  \n",
       "4      Prof-specialty   Female            Cuba   <=50K  "
      ]
     },
     "execution_count": 23,
     "metadata": {},
     "output_type": "execute_result"
    }
   ],
   "source": [
    "dataset_apriori = dataset[['age', 'workclass', 'education', 'marital-status', 'relationship', 'occupation', 'sex', 'native-country', 'income']]\n",
    "dataset_apriori.head()"
   ]
  },
  {
   "cell_type": "code",
   "execution_count": 24,
   "id": "a014cb6b-693d-43dd-84d8-3ad3bc25ebdc",
   "metadata": {},
   "outputs": [
    {
     "data": {
      "text/plain": [
       "(32561, 9)"
      ]
     },
     "execution_count": 24,
     "metadata": {},
     "output_type": "execute_result"
    }
   ],
   "source": [
    "dataset_apriori.shape"
   ]
  },
  {
   "cell_type": "markdown",
   "id": "437620b2-1657-427a-bc07-95e24e7c37f2",
   "metadata": {},
   "source": [
    "## Selecionando uma amostra"
   ]
  },
  {
   "cell_type": "code",
   "execution_count": 25,
   "id": "21028cde-ea39-4768-ada8-de0ad53a70d5",
   "metadata": {},
   "outputs": [
    {
     "data": {
      "text/plain": [
       "(1000, 9)"
      ]
     },
     "execution_count": 25,
     "metadata": {},
     "output_type": "execute_result"
    }
   ],
   "source": [
    "dataset_apriori = dataset_apriori.sample(n = 1000)\n",
    "dataset_apriori.shape"
   ]
  },
  {
   "cell_type": "code",
   "execution_count": 26,
   "id": "ec6696aa-eb62-4246-ac33-98acb61235c0",
   "metadata": {},
   "outputs": [],
   "source": [
    "transacoes = []\n",
    "for i in range(dataset_apriori.shape[0]):\n",
    "    transacoes.append([str(dataset_apriori.values[i, j]) for j in range(dataset_apriori.shape[1])])"
   ]
  },
  {
   "cell_type": "code",
   "execution_count": 27,
   "id": "79aa2d6e-6dd4-4950-aebb-eeb3f81245df",
   "metadata": {},
   "outputs": [
    {
     "data": {
      "text/plain": [
       "1000"
      ]
     },
     "execution_count": 27,
     "metadata": {},
     "output_type": "execute_result"
    }
   ],
   "source": [
    "len(transacoes)"
   ]
  },
  {
   "cell_type": "code",
   "execution_count": 28,
   "id": "106bd138-64d1-4691-9dd7-d84570bc1755",
   "metadata": {},
   "outputs": [
    {
     "data": {
      "text/plain": [
       "[['faixa4',\n",
       "  ' Private',\n",
       "  ' Assoc-voc',\n",
       "  ' Married-civ-spouse',\n",
       "  ' Husband',\n",
       "  ' Exec-managerial',\n",
       "  ' Male',\n",
       "  ' United-States',\n",
       "  ' >50K'],\n",
       " ['faixa3',\n",
       "  ' Private',\n",
       "  ' Bachelors',\n",
       "  ' Never-married',\n",
       "  ' Own-child',\n",
       "  ' Sales',\n",
       "  ' Female',\n",
       "  ' United-States',\n",
       "  ' <=50K']]"
      ]
     },
     "execution_count": 28,
     "metadata": {},
     "output_type": "execute_result"
    }
   ],
   "source": [
    "transacoes[:2]"
   ]
  },
  {
   "cell_type": "code",
   "execution_count": 29,
   "id": "6ffee2c1-6746-4d2b-8025-502befda7343",
   "metadata": {},
   "outputs": [],
   "source": [
    "regras = apriori(transacoes, min_support = 0.3, min_confidence = 0.2)\n",
    "resultados = list(regras)"
   ]
  },
  {
   "cell_type": "code",
   "execution_count": 30,
   "id": "1becd0be-3eaf-4cf2-83fc-61bfb249abde",
   "metadata": {},
   "outputs": [
    {
     "data": {
      "text/plain": [
       "38"
      ]
     },
     "execution_count": 30,
     "metadata": {},
     "output_type": "execute_result"
    }
   ],
   "source": [
    "len(resultados)"
   ]
  },
  {
   "cell_type": "code",
   "execution_count": 31,
   "id": "0c67a361-f2e8-42ae-a515-144425414421",
   "metadata": {},
   "outputs": [
    {
     "data": {
      "text/plain": [
       "[RelationRecord(items=frozenset({' <=50K'}), support=0.753, ordered_statistics=[OrderedStatistic(items_base=frozenset(), items_add=frozenset({' <=50K'}), confidence=0.753, lift=1.0)]),\n",
       " RelationRecord(items=frozenset({' Female'}), support=0.323, ordered_statistics=[OrderedStatistic(items_base=frozenset(), items_add=frozenset({' Female'}), confidence=0.323, lift=1.0)]),\n",
       " RelationRecord(items=frozenset({' HS-grad'}), support=0.348, ordered_statistics=[OrderedStatistic(items_base=frozenset(), items_add=frozenset({' HS-grad'}), confidence=0.348, lift=1.0)]),\n",
       " RelationRecord(items=frozenset({' Husband'}), support=0.417, ordered_statistics=[OrderedStatistic(items_base=frozenset(), items_add=frozenset({' Husband'}), confidence=0.417, lift=1.0)]),\n",
       " RelationRecord(items=frozenset({' Male'}), support=0.677, ordered_statistics=[OrderedStatistic(items_base=frozenset(), items_add=frozenset({' Male'}), confidence=0.677, lift=1.0)]),\n",
       " RelationRecord(items=frozenset({' Married-civ-spouse'}), support=0.476, ordered_statistics=[OrderedStatistic(items_base=frozenset(), items_add=frozenset({' Married-civ-spouse'}), confidence=0.476, lift=1.0)]),\n",
       " RelationRecord(items=frozenset({' Never-married'}), support=0.322, ordered_statistics=[OrderedStatistic(items_base=frozenset(), items_add=frozenset({' Never-married'}), confidence=0.322, lift=1.0)]),\n",
       " RelationRecord(items=frozenset({' Private'}), support=0.698, ordered_statistics=[OrderedStatistic(items_base=frozenset(), items_add=frozenset({' Private'}), confidence=0.698, lift=1.0)]),\n",
       " RelationRecord(items=frozenset({' United-States'}), support=0.891, ordered_statistics=[OrderedStatistic(items_base=frozenset(), items_add=frozenset({' United-States'}), confidence=0.891, lift=1.0)]),\n",
       " RelationRecord(items=frozenset({'faixa3'}), support=0.409, ordered_statistics=[OrderedStatistic(items_base=frozenset(), items_add=frozenset({'faixa3'}), confidence=0.409, lift=1.0)]),\n",
       " RelationRecord(items=frozenset({'faixa4'}), support=0.34, ordered_statistics=[OrderedStatistic(items_base=frozenset(), items_add=frozenset({'faixa4'}), confidence=0.34, lift=1.0)]),\n",
       " RelationRecord(items=frozenset({' <=50K', ' Male'}), support=0.474, ordered_statistics=[OrderedStatistic(items_base=frozenset(), items_add=frozenset({' <=50K', ' Male'}), confidence=0.474, lift=1.0), OrderedStatistic(items_base=frozenset({' <=50K'}), items_add=frozenset({' Male'}), confidence=0.6294820717131474, lift=0.9298110365039104), OrderedStatistic(items_base=frozenset({' Male'}), items_add=frozenset({' <=50K'}), confidence=0.7001477104874445, lift=0.9298110365039104)]),\n",
       " RelationRecord(items=frozenset({' <=50K', ' Never-married'}), support=0.309, ordered_statistics=[OrderedStatistic(items_base=frozenset(), items_add=frozenset({' <=50K', ' Never-married'}), confidence=0.309, lift=1.0), OrderedStatistic(items_base=frozenset({' <=50K'}), items_add=frozenset({' Never-married'}), confidence=0.41035856573705176, lift=1.2744054836554402), OrderedStatistic(items_base=frozenset({' Never-married'}), items_add=frozenset({' <=50K'}), confidence=0.9596273291925466, lift=1.2744054836554404)]),\n",
       " RelationRecord(items=frozenset({' <=50K', ' Private'}), support=0.547, ordered_statistics=[OrderedStatistic(items_base=frozenset(), items_add=frozenset({' <=50K', ' Private'}), confidence=0.547, lift=1.0), OrderedStatistic(items_base=frozenset({' <=50K'}), items_add=frozenset({' Private'}), confidence=0.7264276228419655, lift=1.0407272533552514), OrderedStatistic(items_base=frozenset({' Private'}), items_add=frozenset({' <=50K'}), confidence=0.7836676217765044, lift=1.0407272533552516)]),\n",
       " RelationRecord(items=frozenset({' United-States', ' <=50K'}), support=0.664, ordered_statistics=[OrderedStatistic(items_base=frozenset(), items_add=frozenset({' United-States', ' <=50K'}), confidence=0.664, lift=1.0), OrderedStatistic(items_base=frozenset({' <=50K'}), items_add=frozenset({' United-States'}), confidence=0.8818061088977424, lift=0.9896813792342787), OrderedStatistic(items_base=frozenset({' United-States'}), items_add=frozenset({' <=50K'}), confidence=0.745230078563412, lift=0.9896813792342788)]),\n",
       " RelationRecord(items=frozenset({'faixa3', ' <=50K'}), support=0.315, ordered_statistics=[OrderedStatistic(items_base=frozenset(), items_add=frozenset({'faixa3', ' <=50K'}), confidence=0.315, lift=1.0), OrderedStatistic(items_base=frozenset({' <=50K'}), items_add=frozenset({'faixa3'}), confidence=0.41832669322709165, lift=1.0228036509219844), OrderedStatistic(items_base=frozenset({'faixa3'}), items_add=frozenset({' <=50K'}), confidence=0.7701711491442543, lift=1.0228036509219844)]),\n",
       " RelationRecord(items=frozenset({' HS-grad', ' United-States'}), support=0.326, ordered_statistics=[OrderedStatistic(items_base=frozenset(), items_add=frozenset({' HS-grad', ' United-States'}), confidence=0.326, lift=1.0), OrderedStatistic(items_base=frozenset({' HS-grad'}), items_add=frozenset({' United-States'}), confidence=0.9367816091954024, lift=1.0513822774359174), OrderedStatistic(items_base=frozenset({' United-States'}), items_add=frozenset({' HS-grad'}), confidence=0.3658810325476992, lift=1.0513822774359174)]),\n",
       " RelationRecord(items=frozenset({' Male', ' Husband'}), support=0.417, ordered_statistics=[OrderedStatistic(items_base=frozenset(), items_add=frozenset({' Male', ' Husband'}), confidence=0.417, lift=1.0), OrderedStatistic(items_base=frozenset({' Husband'}), items_add=frozenset({' Male'}), confidence=1.0, lift=1.4771048744460855), OrderedStatistic(items_base=frozenset({' Male'}), items_add=frozenset({' Husband'}), confidence=0.6159527326440176, lift=1.4771048744460855)]),\n",
       " RelationRecord(items=frozenset({' Married-civ-spouse', ' Husband'}), support=0.416, ordered_statistics=[OrderedStatistic(items_base=frozenset(), items_add=frozenset({' Married-civ-spouse', ' Husband'}), confidence=0.416, lift=1.0), OrderedStatistic(items_base=frozenset({' Husband'}), items_add=frozenset({' Married-civ-spouse'}), confidence=0.9976019184652278, lift=2.095802349716865), OrderedStatistic(items_base=frozenset({' Married-civ-spouse'}), items_add=frozenset({' Husband'}), confidence=0.8739495798319328, lift=2.095802349716865)]),\n",
       " RelationRecord(items=frozenset({' United-States', ' Husband'}), support=0.373, ordered_statistics=[OrderedStatistic(items_base=frozenset(), items_add=frozenset({' United-States', ' Husband'}), confidence=0.373, lift=1.0), OrderedStatistic(items_base=frozenset({' Husband'}), items_add=frozenset({' United-States'}), confidence=0.894484412470024, lift=1.0039106761728664), OrderedStatistic(items_base=frozenset({' United-States'}), items_add=frozenset({' Husband'}), confidence=0.4186307519640853, lift=1.0039106761728664)]),\n",
       " RelationRecord(items=frozenset({' Married-civ-spouse', ' Male'}), support=0.423, ordered_statistics=[OrderedStatistic(items_base=frozenset(), items_add=frozenset({' Married-civ-spouse', ' Male'}), confidence=0.423, lift=1.0), OrderedStatistic(items_base=frozenset({' Male'}), items_add=frozenset({' Married-civ-spouse'}), confidence=0.6248153618906942, lift=1.3126373148964166), OrderedStatistic(items_base=frozenset({' Married-civ-spouse'}), items_add=frozenset({' Male'}), confidence=0.888655462184874, lift=1.3126373148964166)]),\n",
       " RelationRecord(items=frozenset({' Male', ' Private'}), support=0.472, ordered_statistics=[OrderedStatistic(items_base=frozenset(), items_add=frozenset({' Male', ' Private'}), confidence=0.472, lift=1.0), OrderedStatistic(items_base=frozenset({' Male'}), items_add=frozenset({' Private'}), confidence=0.6971935007385524, lift=0.9988445569320235), OrderedStatistic(items_base=frozenset({' Private'}), items_add=frozenset({' Male'}), confidence=0.6762177650429799, lift=0.9988445569320235)]),\n",
       " RelationRecord(items=frozenset({' United-States', ' Male'}), support=0.6, ordered_statistics=[OrderedStatistic(items_base=frozenset(), items_add=frozenset({' United-States', ' Male'}), confidence=0.6, lift=1.0), OrderedStatistic(items_base=frozenset({' Male'}), items_add=frozenset({' United-States'}), confidence=0.8862629246676513, lift=0.9946834171354111), OrderedStatistic(items_base=frozenset({' United-States'}), items_add=frozenset({' Male'}), confidence=0.6734006734006733, lift=0.9946834171354111)]),\n",
       " RelationRecord(items=frozenset({' Married-civ-spouse', ' Private'}), support=0.326, ordered_statistics=[OrderedStatistic(items_base=frozenset(), items_add=frozenset({' Married-civ-spouse', ' Private'}), confidence=0.326, lift=1.0), OrderedStatistic(items_base=frozenset({' Married-civ-spouse'}), items_add=frozenset({' Private'}), confidence=0.6848739495798319, lift=0.9811947701716791), OrderedStatistic(items_base=frozenset({' Private'}), items_add=frozenset({' Married-civ-spouse'}), confidence=0.46704871060171926, lift=0.9811947701716792)]),\n",
       " RelationRecord(items=frozenset({' United-States', ' Married-civ-spouse'}), support=0.426, ordered_statistics=[OrderedStatistic(items_base=frozenset(), items_add=frozenset({' United-States', ' Married-civ-spouse'}), confidence=0.426, lift=1.0), OrderedStatistic(items_base=frozenset({' Married-civ-spouse'}), items_add=frozenset({' United-States'}), confidence=0.8949579831932774, lift=1.0044421809127693), OrderedStatistic(items_base=frozenset({' United-States'}), items_add=frozenset({' Married-civ-spouse'}), confidence=0.4781144781144781, lift=1.0044421809127693)]),\n",
       " RelationRecord(items=frozenset({' United-States', ' Private'}), support=0.61, ordered_statistics=[OrderedStatistic(items_base=frozenset(), items_add=frozenset({' United-States', ' Private'}), confidence=0.61, lift=1.0), OrderedStatistic(items_base=frozenset({' Private'}), items_add=frozenset({' United-States'}), confidence=0.8739255014326648, lift=0.9808367019446294), OrderedStatistic(items_base=frozenset({' United-States'}), items_add=frozenset({' Private'}), confidence=0.6846240179573513, lift=0.9808367019446295)]),\n",
       " RelationRecord(items=frozenset({'faixa3', ' Private'}), support=0.311, ordered_statistics=[OrderedStatistic(items_base=frozenset(), items_add=frozenset({'faixa3', ' Private'}), confidence=0.311, lift=1.0), OrderedStatistic(items_base=frozenset({' Private'}), items_add=frozenset({'faixa3'}), confidence=0.4455587392550144, lift=1.0893856705501574), OrderedStatistic(items_base=frozenset({'faixa3'}), items_add=frozenset({' Private'}), confidence=0.7603911980440098, lift=1.0893856705501574)]),\n",
       " RelationRecord(items=frozenset({' United-States', 'faixa3'}), support=0.363, ordered_statistics=[OrderedStatistic(items_base=frozenset(), items_add=frozenset({' United-States', 'faixa3'}), confidence=0.363, lift=1.0), OrderedStatistic(items_base=frozenset({' United-States'}), items_add=frozenset({'faixa3'}), confidence=0.4074074074074074, lift=0.9961061305804582), OrderedStatistic(items_base=frozenset({'faixa3'}), items_add=frozenset({' United-States'}), confidence=0.8875305623471883, lift=0.9961061305804583)]),\n",
       " RelationRecord(items=frozenset({' United-States', 'faixa4'}), support=0.308, ordered_statistics=[OrderedStatistic(items_base=frozenset(), items_add=frozenset({' United-States', 'faixa4'}), confidence=0.308, lift=1.0), OrderedStatistic(items_base=frozenset({' United-States'}), items_add=frozenset({'faixa4'}), confidence=0.345679012345679, lift=1.016702977487291), OrderedStatistic(items_base=frozenset({'faixa4'}), items_add=frozenset({' United-States'}), confidence=0.9058823529411764, lift=1.016702977487291)]),\n",
       " RelationRecord(items=frozenset({' <=50K', ' Male', ' Private'}), support=0.346, ordered_statistics=[OrderedStatistic(items_base=frozenset(), items_add=frozenset({' <=50K', ' Male', ' Private'}), confidence=0.346, lift=1.0), OrderedStatistic(items_base=frozenset({' <=50K'}), items_add=frozenset({' Male', ' Private'}), confidence=0.4594953519256308, lift=0.9735071015373534), OrderedStatistic(items_base=frozenset({' Male'}), items_add=frozenset({' <=50K', ' Private'}), confidence=0.5110782865583455, lift=0.9343295915143428), OrderedStatistic(items_base=frozenset({' Private'}), items_add=frozenset({' <=50K', ' Male'}), confidence=0.49570200573065903, lift=1.0457848222165802), OrderedStatistic(items_base=frozenset({' <=50K', ' Male'}), items_add=frozenset({' Private'}), confidence=0.729957805907173, lift=1.0457848222165802), OrderedStatistic(items_base=frozenset({' <=50K', ' Private'}), items_add=frozenset({' Male'}), confidence=0.6325411334552101, lift=0.9343295915143428), OrderedStatistic(items_base=frozenset({' Male', ' Private'}), items_add=frozenset({' <=50K'}), confidence=0.733050847457627, lift=0.9735071015373533)]),\n",
       " RelationRecord(items=frozenset({' United-States', ' <=50K', ' Male'}), support=0.413, ordered_statistics=[OrderedStatistic(items_base=frozenset(), items_add=frozenset({' United-States', ' <=50K', ' Male'}), confidence=0.413, lift=1.0), OrderedStatistic(items_base=frozenset({' <=50K'}), items_add=frozenset({' United-States', ' Male'}), confidence=0.548472775564409, lift=0.9141212926073483), OrderedStatistic(items_base=frozenset({' Male'}), items_add=frozenset({' United-States', ' <=50K'}), confidence=0.6100443131462333, lift=0.9187414354611947), OrderedStatistic(items_base=frozenset({' United-States'}), items_add=frozenset({' <=50K', ' Male'}), confidence=0.4635241301907968, lift=0.9778990088413435), OrderedStatistic(items_base=frozenset({' <=50K', ' Male'}), items_add=frozenset({' United-States'}), confidence=0.8713080168776371, lift=0.9778990088413436), OrderedStatistic(items_base=frozenset({' United-States', ' <=50K'}), items_add=frozenset({' Male'}), confidence=0.6219879518072289, lift=0.9187414354611947), OrderedStatistic(items_base=frozenset({' United-States', ' Male'}), items_add=frozenset({' <=50K'}), confidence=0.6883333333333334, lift=0.9141212926073484)]),\n",
       " RelationRecord(items=frozenset({' United-States', ' <=50K', ' Private'}), support=0.472, ordered_statistics=[OrderedStatistic(items_base=frozenset(), items_add=frozenset({' United-States', ' <=50K', ' Private'}), confidence=0.472, lift=1.0), OrderedStatistic(items_base=frozenset({' <=50K'}), items_add=frozenset({' United-States', ' Private'}), confidence=0.6268260292164675, lift=1.0275836544532253), OrderedStatistic(items_base=frozenset({' Private'}), items_add=frozenset({' United-States', ' <=50K'}), confidence=0.6762177650429799, lift=1.0184002485587047), OrderedStatistic(items_base=frozenset({' United-States'}), items_add=frozenset({' <=50K', ' Private'}), confidence=0.5297418630751963, lift=0.9684494754573972), OrderedStatistic(items_base=frozenset({' <=50K', ' Private'}), items_add=frozenset({' United-States'}), confidence=0.862888482632541, lift=0.9684494754573973), OrderedStatistic(items_base=frozenset({' United-States', ' <=50K'}), items_add=frozenset({' Private'}), confidence=0.7108433734939759, lift=1.0184002485587047), OrderedStatistic(items_base=frozenset({' United-States', ' Private'}), items_add=frozenset({' <=50K'}), confidence=0.7737704918032786, lift=1.0275836544532253)]),\n",
       " RelationRecord(items=frozenset({' Married-civ-spouse', ' Male', ' Husband'}), support=0.416, ordered_statistics=[OrderedStatistic(items_base=frozenset(), items_add=frozenset({' Married-civ-spouse', ' Male', ' Husband'}), confidence=0.416, lift=1.0), OrderedStatistic(items_base=frozenset({' Husband'}), items_add=frozenset({' Married-civ-spouse', ' Male'}), confidence=0.9976019184652278, lift=2.358396970366969), OrderedStatistic(items_base=frozenset({' Male'}), items_add=frozenset({' Married-civ-spouse', ' Husband'}), confidence=0.6144756277695715, lift=1.4771048744460855), OrderedStatistic(items_base=frozenset({' Married-civ-spouse'}), items_add=frozenset({' Male', ' Husband'}), confidence=0.8739495798319328, lift=2.095802349716865), OrderedStatistic(items_base=frozenset({' Male', ' Husband'}), items_add=frozenset({' Married-civ-spouse'}), confidence=0.9976019184652278, lift=2.095802349716865), OrderedStatistic(items_base=frozenset({' Married-civ-spouse', ' Husband'}), items_add=frozenset({' Male'}), confidence=1.0, lift=1.4771048744460855), OrderedStatistic(items_base=frozenset({' Married-civ-spouse', ' Male'}), items_add=frozenset({' Husband'}), confidence=0.983451536643026, lift=2.358396970366969)]),\n",
       " RelationRecord(items=frozenset({' United-States', ' Male', ' Husband'}), support=0.373, ordered_statistics=[OrderedStatistic(items_base=frozenset(), items_add=frozenset({' United-States', ' Male', ' Husband'}), confidence=0.373, lift=1.0), OrderedStatistic(items_base=frozenset({' Husband'}), items_add=frozenset({' United-States', ' Male'}), confidence=0.894484412470024, lift=1.4908073541167066), OrderedStatistic(items_base=frozenset({' Male'}), items_add=frozenset({' United-States', ' Husband'}), confidence=0.55096011816839, lift=1.4771048744460857), OrderedStatistic(items_base=frozenset({' United-States'}), items_add=frozenset({' Male', ' Husband'}), confidence=0.4186307519640853, lift=1.0039106761728664), OrderedStatistic(items_base=frozenset({' Male', ' Husband'}), items_add=frozenset({' United-States'}), confidence=0.894484412470024, lift=1.0039106761728664), OrderedStatistic(items_base=frozenset({' United-States', ' Husband'}), items_add=frozenset({' Male'}), confidence=1.0, lift=1.4771048744460855), OrderedStatistic(items_base=frozenset({' United-States', ' Male'}), items_add=frozenset({' Husband'}), confidence=0.6216666666666667, lift=1.4908073541167068)]),\n",
       " RelationRecord(items=frozenset({' United-States', ' Married-civ-spouse', ' Husband'}), support=0.372, ordered_statistics=[OrderedStatistic(items_base=frozenset(), items_add=frozenset({' United-States', ' Married-civ-spouse', ' Husband'}), confidence=0.372, lift=1.0), OrderedStatistic(items_base=frozenset({' Husband'}), items_add=frozenset({' United-States', ' Married-civ-spouse'}), confidence=0.8920863309352518, lift=2.09409936839261), OrderedStatistic(items_base=frozenset({' Married-civ-spouse'}), items_add=frozenset({' United-States', ' Husband'}), confidence=0.7815126050420168, lift=2.095208056412914), OrderedStatistic(items_base=frozenset({' United-States'}), items_add=frozenset({' Married-civ-spouse', ' Husband'}), confidence=0.4175084175084175, lift=1.0036260036260036), OrderedStatistic(items_base=frozenset({' Married-civ-spouse', ' Husband'}), items_add=frozenset({' United-States'}), confidence=0.8942307692307693, lift=1.0036260036260036), OrderedStatistic(items_base=frozenset({' United-States', ' Husband'}), items_add=frozenset({' Married-civ-spouse'}), confidence=0.9973190348525469, lift=2.095208056412914), OrderedStatistic(items_base=frozenset({' United-States', ' Married-civ-spouse'}), items_add=frozenset({' Husband'}), confidence=0.8732394366197184, lift=2.09409936839261)]),\n",
       " RelationRecord(items=frozenset({' United-States', ' Married-civ-spouse', ' Male'}), support=0.379, ordered_statistics=[OrderedStatistic(items_base=frozenset(), items_add=frozenset({' United-States', ' Married-civ-spouse', ' Male'}), confidence=0.379, lift=1.0), OrderedStatistic(items_base=frozenset({' Male'}), items_add=frozenset({' United-States', ' Married-civ-spouse'}), confidence=0.5598227474150664, lift=1.3141379047302029), OrderedStatistic(items_base=frozenset({' Married-civ-spouse'}), items_add=frozenset({' United-States', ' Male'}), confidence=0.796218487394958, lift=1.3270308123249301), OrderedStatistic(items_base=frozenset({' United-States'}), items_add=frozenset({' Married-civ-spouse', ' Male'}), confidence=0.42536475869809204, lift=1.0055904460947802), OrderedStatistic(items_base=frozenset({' Married-civ-spouse', ' Male'}), items_add=frozenset({' United-States'}), confidence=0.8959810874704492, lift=1.0055904460947802), OrderedStatistic(items_base=frozenset({' United-States', ' Male'}), items_add=frozenset({' Married-civ-spouse'}), confidence=0.6316666666666667, lift=1.3270308123249301), OrderedStatistic(items_base=frozenset({' United-States', ' Married-civ-spouse'}), items_add=frozenset({' Male'}), confidence=0.8896713615023475, lift=1.314137904730203)]),\n",
       " RelationRecord(items=frozenset({' United-States', ' Male', ' Private'}), support=0.409, ordered_statistics=[OrderedStatistic(items_base=frozenset(), items_add=frozenset({' United-States', ' Male', ' Private'}), confidence=0.409, lift=1.0), OrderedStatistic(items_base=frozenset({' Male'}), items_add=frozenset({' United-States', ' Private'}), confidence=0.604135893648449, lift=0.9903867108990967), OrderedStatistic(items_base=frozenset({' Private'}), items_add=frozenset({' United-States', ' Male'}), confidence=0.5859598853868195, lift=0.9765998089780326), OrderedStatistic(items_base=frozenset({' United-States'}), items_add=frozenset({' Male', ' Private'}), confidence=0.45903479236812567, lift=0.9725313397629781), OrderedStatistic(items_base=frozenset({' Male', ' Private'}), items_add=frozenset({' United-States'}), confidence=0.8665254237288136, lift=0.9725313397629782), OrderedStatistic(items_base=frozenset({' United-States', ' Male'}), items_add=frozenset({' Private'}), confidence=0.6816666666666666, lift=0.9765998089780326), OrderedStatistic(items_base=frozenset({' United-States', ' Private'}), items_add=frozenset({' Male'}), confidence=0.6704918032786885, lift=0.9903867108990967)]),\n",
       " RelationRecord(items=frozenset({' United-States', ' Married-civ-spouse', ' Male', ' Husband'}), support=0.372, ordered_statistics=[OrderedStatistic(items_base=frozenset(), items_add=frozenset({' United-States', ' Married-civ-spouse', ' Male', ' Husband'}), confidence=0.372, lift=1.0), OrderedStatistic(items_base=frozenset({' Husband'}), items_add=frozenset({' United-States', ' Married-civ-spouse', ' Male'}), confidence=0.8920863309352518, lift=2.3537897913858887), OrderedStatistic(items_base=frozenset({' Male'}), items_add=frozenset({' United-States', ' Married-civ-spouse', ' Husband'}), confidence=0.5494830132939438, lift=1.4771048744460855), OrderedStatistic(items_base=frozenset({' Married-civ-spouse'}), items_add=frozenset({' United-States', ' Male', ' Husband'}), confidence=0.7815126050420168, lift=2.095208056412914), OrderedStatistic(items_base=frozenset({' United-States'}), items_add=frozenset({' Married-civ-spouse', ' Male', ' Husband'}), confidence=0.4175084175084175, lift=1.0036260036260036), OrderedStatistic(items_base=frozenset({' Male', ' Husband'}), items_add=frozenset({' United-States', ' Married-civ-spouse'}), confidence=0.8920863309352518, lift=2.09409936839261), OrderedStatistic(items_base=frozenset({' Married-civ-spouse', ' Husband'}), items_add=frozenset({' United-States', ' Male'}), confidence=0.8942307692307693, lift=1.4903846153846154), OrderedStatistic(items_base=frozenset({' United-States', ' Husband'}), items_add=frozenset({' Married-civ-spouse', ' Male'}), confidence=0.9973190348525469, lift=2.3577282147814347), OrderedStatistic(items_base=frozenset({' Married-civ-spouse', ' Male'}), items_add=frozenset({' United-States', ' Husband'}), confidence=0.8794326241134752, lift=2.357728214781435), OrderedStatistic(items_base=frozenset({' United-States', ' Male'}), items_add=frozenset({' Married-civ-spouse', ' Husband'}), confidence=0.62, lift=1.4903846153846154), OrderedStatistic(items_base=frozenset({' United-States', ' Married-civ-spouse'}), items_add=frozenset({' Male', ' Husband'}), confidence=0.8732394366197184, lift=2.09409936839261), OrderedStatistic(items_base=frozenset({' Married-civ-spouse', ' Male', ' Husband'}), items_add=frozenset({' United-States'}), confidence=0.8942307692307693, lift=1.0036260036260036), OrderedStatistic(items_base=frozenset({' United-States', ' Male', ' Husband'}), items_add=frozenset({' Married-civ-spouse'}), confidence=0.9973190348525469, lift=2.095208056412914), OrderedStatistic(items_base=frozenset({' United-States', ' Married-civ-spouse', ' Husband'}), items_add=frozenset({' Male'}), confidence=1.0, lift=1.4771048744460855), OrderedStatistic(items_base=frozenset({' United-States', ' Married-civ-spouse', ' Male'}), items_add=frozenset({' Husband'}), confidence=0.9815303430079155, lift=2.3537897913858887)])]"
      ]
     },
     "execution_count": 31,
     "metadata": {},
     "output_type": "execute_result"
    }
   ],
   "source": [
    "resultados"
   ]
  }
 ],
 "metadata": {
  "kernelspec": {
   "display_name": "Python 3 (ipykernel)",
   "language": "python",
   "name": "python3"
  },
  "language_info": {
   "codemirror_mode": {
    "name": "ipython",
    "version": 3
   },
   "file_extension": ".py",
   "mimetype": "text/x-python",
   "name": "python",
   "nbconvert_exporter": "python",
   "pygments_lexer": "ipython3",
   "version": "3.12.3"
  }
 },
 "nbformat": 4,
 "nbformat_minor": 5
}
