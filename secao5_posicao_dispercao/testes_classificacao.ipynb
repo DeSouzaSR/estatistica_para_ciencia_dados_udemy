{
 "cells": [
  {
   "cell_type": "markdown",
   "id": "31d8028c-66b3-4d27-ba6a-87e27cf6ba9a",
   "metadata": {},
   "source": [
    "# Algoritmos de classificação\n",
    "Serão feitos testes com três algoritmos de classificação. Serão 30 testes, para atender a um procedimento comum na comunidade de ciência de dados. "
   ]
  },
  {
   "cell_type": "code",
   "execution_count": 28,
   "id": "bb49372d-2379-416f-bc99-4f5c20d52a20",
   "metadata": {},
   "outputs": [],
   "source": [
    "import pandas as pd\n",
    "import numpy as np"
   ]
  },
  {
   "cell_type": "code",
   "execution_count": 3,
   "id": "c45ff3d0-f9e5-4bd1-8e1e-057a8c6bae52",
   "metadata": {},
   "outputs": [],
   "source": [
    "path_dataset = r'../data/raw_data/credit_data.csv'"
   ]
  },
  {
   "cell_type": "code",
   "execution_count": 4,
   "id": "316d24e7-03cc-4d7e-932e-8420c0cb79f3",
   "metadata": {},
   "outputs": [],
   "source": [
    "dataset = pd.read_csv(path_dataset)"
   ]
  },
  {
   "cell_type": "code",
   "execution_count": 5,
   "id": "fd2c7106-3cb5-4e65-be98-5f5ec6bb4f70",
   "metadata": {},
   "outputs": [
    {
     "data": {
      "text/html": [
       "<div>\n",
       "<style scoped>\n",
       "    .dataframe tbody tr th:only-of-type {\n",
       "        vertical-align: middle;\n",
       "    }\n",
       "\n",
       "    .dataframe tbody tr th {\n",
       "        vertical-align: top;\n",
       "    }\n",
       "\n",
       "    .dataframe thead th {\n",
       "        text-align: right;\n",
       "    }\n",
       "</style>\n",
       "<table border=\"1\" class=\"dataframe\">\n",
       "  <thead>\n",
       "    <tr style=\"text-align: right;\">\n",
       "      <th></th>\n",
       "      <th>i#clientid</th>\n",
       "      <th>income</th>\n",
       "      <th>age</th>\n",
       "      <th>loan</th>\n",
       "      <th>c#default</th>\n",
       "    </tr>\n",
       "  </thead>\n",
       "  <tbody>\n",
       "    <tr>\n",
       "      <th>0</th>\n",
       "      <td>1</td>\n",
       "      <td>66155.925095</td>\n",
       "      <td>59.017015</td>\n",
       "      <td>8106.532131</td>\n",
       "      <td>0</td>\n",
       "    </tr>\n",
       "    <tr>\n",
       "      <th>1</th>\n",
       "      <td>2</td>\n",
       "      <td>34415.153966</td>\n",
       "      <td>48.117153</td>\n",
       "      <td>6564.745018</td>\n",
       "      <td>0</td>\n",
       "    </tr>\n",
       "    <tr>\n",
       "      <th>2</th>\n",
       "      <td>3</td>\n",
       "      <td>57317.170063</td>\n",
       "      <td>63.108049</td>\n",
       "      <td>8020.953296</td>\n",
       "      <td>0</td>\n",
       "    </tr>\n",
       "    <tr>\n",
       "      <th>3</th>\n",
       "      <td>4</td>\n",
       "      <td>42709.534201</td>\n",
       "      <td>45.751972</td>\n",
       "      <td>6103.642260</td>\n",
       "      <td>0</td>\n",
       "    </tr>\n",
       "    <tr>\n",
       "      <th>4</th>\n",
       "      <td>5</td>\n",
       "      <td>66952.688845</td>\n",
       "      <td>18.584336</td>\n",
       "      <td>8770.099235</td>\n",
       "      <td>1</td>\n",
       "    </tr>\n",
       "  </tbody>\n",
       "</table>\n",
       "</div>"
      ],
      "text/plain": [
       "   i#clientid        income        age         loan  c#default\n",
       "0           1  66155.925095  59.017015  8106.532131          0\n",
       "1           2  34415.153966  48.117153  6564.745018          0\n",
       "2           3  57317.170063  63.108049  8020.953296          0\n",
       "3           4  42709.534201  45.751972  6103.642260          0\n",
       "4           5  66952.688845  18.584336  8770.099235          1"
      ]
     },
     "execution_count": 5,
     "metadata": {},
     "output_type": "execute_result"
    }
   ],
   "source": [
    "dataset.head()"
   ]
  },
  {
   "cell_type": "code",
   "execution_count": 6,
   "id": "b4c02918-bb8a-498d-ac7a-e4e830ef77a3",
   "metadata": {},
   "outputs": [
    {
     "name": "stdout",
     "output_type": "stream",
     "text": [
      "<class 'pandas.core.frame.DataFrame'>\n",
      "RangeIndex: 2000 entries, 0 to 1999\n",
      "Data columns (total 5 columns):\n",
      " #   Column      Non-Null Count  Dtype  \n",
      "---  ------      --------------  -----  \n",
      " 0   i#clientid  2000 non-null   int64  \n",
      " 1   income      2000 non-null   float64\n",
      " 2   age         1997 non-null   float64\n",
      " 3   loan        2000 non-null   float64\n",
      " 4   c#default   2000 non-null   int64  \n",
      "dtypes: float64(3), int64(2)\n",
      "memory usage: 78.3 KB\n"
     ]
    }
   ],
   "source": [
    "dataset.info()"
   ]
  },
  {
   "cell_type": "markdown",
   "id": "ef0760b8-2581-4ac8-80c1-64d2b3f1a761",
   "metadata": {},
   "source": [
    "Há dados faltantes em idade. Removendo todo o registro de todos os dados faltantes"
   ]
  },
  {
   "cell_type": "code",
   "execution_count": 11,
   "id": "c3e88f61-0534-4504-84c7-f4af623ce3c5",
   "metadata": {},
   "outputs": [],
   "source": [
    "dataset.dropna(inplace=True)"
   ]
  },
  {
   "cell_type": "code",
   "execution_count": 12,
   "id": "76e8a05f-fa8c-473c-80b5-8f832ef24f4b",
   "metadata": {},
   "outputs": [
    {
     "data": {
      "text/plain": [
       "(1997, 5)"
      ]
     },
     "execution_count": 12,
     "metadata": {},
     "output_type": "execute_result"
    }
   ],
   "source": [
    "dataset.shape"
   ]
  },
  {
   "cell_type": "code",
   "execution_count": 13,
   "id": "74ca8d9d-cf65-433e-b921-9a7a4ea71e87",
   "metadata": {},
   "outputs": [
    {
     "data": {
      "text/html": [
       "<div>\n",
       "<style scoped>\n",
       "    .dataframe tbody tr th:only-of-type {\n",
       "        vertical-align: middle;\n",
       "    }\n",
       "\n",
       "    .dataframe tbody tr th {\n",
       "        vertical-align: top;\n",
       "    }\n",
       "\n",
       "    .dataframe thead th {\n",
       "        text-align: right;\n",
       "    }\n",
       "</style>\n",
       "<table border=\"1\" class=\"dataframe\">\n",
       "  <thead>\n",
       "    <tr style=\"text-align: right;\">\n",
       "      <th></th>\n",
       "      <th>i#clientid</th>\n",
       "      <th>income</th>\n",
       "      <th>age</th>\n",
       "      <th>loan</th>\n",
       "      <th>c#default</th>\n",
       "    </tr>\n",
       "  </thead>\n",
       "  <tbody>\n",
       "    <tr>\n",
       "      <th>0</th>\n",
       "      <td>1</td>\n",
       "      <td>66155.925095</td>\n",
       "      <td>59.017015</td>\n",
       "      <td>8106.532131</td>\n",
       "      <td>0</td>\n",
       "    </tr>\n",
       "    <tr>\n",
       "      <th>1</th>\n",
       "      <td>2</td>\n",
       "      <td>34415.153966</td>\n",
       "      <td>48.117153</td>\n",
       "      <td>6564.745018</td>\n",
       "      <td>0</td>\n",
       "    </tr>\n",
       "    <tr>\n",
       "      <th>2</th>\n",
       "      <td>3</td>\n",
       "      <td>57317.170063</td>\n",
       "      <td>63.108049</td>\n",
       "      <td>8020.953296</td>\n",
       "      <td>0</td>\n",
       "    </tr>\n",
       "    <tr>\n",
       "      <th>3</th>\n",
       "      <td>4</td>\n",
       "      <td>42709.534201</td>\n",
       "      <td>45.751972</td>\n",
       "      <td>6103.642260</td>\n",
       "      <td>0</td>\n",
       "    </tr>\n",
       "    <tr>\n",
       "      <th>4</th>\n",
       "      <td>5</td>\n",
       "      <td>66952.688845</td>\n",
       "      <td>18.584336</td>\n",
       "      <td>8770.099235</td>\n",
       "      <td>1</td>\n",
       "    </tr>\n",
       "  </tbody>\n",
       "</table>\n",
       "</div>"
      ],
      "text/plain": [
       "   i#clientid        income        age         loan  c#default\n",
       "0           1  66155.925095  59.017015  8106.532131          0\n",
       "1           2  34415.153966  48.117153  6564.745018          0\n",
       "2           3  57317.170063  63.108049  8020.953296          0\n",
       "3           4  42709.534201  45.751972  6103.642260          0\n",
       "4           5  66952.688845  18.584336  8770.099235          1"
      ]
     },
     "execution_count": 13,
     "metadata": {},
     "output_type": "execute_result"
    }
   ],
   "source": [
    "dataset.head()"
   ]
  },
  {
   "cell_type": "markdown",
   "id": "47510167-0d0f-4fc1-ab73-ea7a27344f0d",
   "metadata": {},
   "source": [
    "## Separando dados e alvo"
   ]
  },
  {
   "cell_type": "code",
   "execution_count": 15,
   "id": "5f84e84d-02e5-4873-a493-b7f5bb4c19ec",
   "metadata": {},
   "outputs": [
    {
     "data": {
      "text/plain": [
       "array([[6.61559251e+04, 5.90170151e+01, 8.10653213e+03],\n",
       "       [3.44151540e+04, 4.81171531e+01, 6.56474502e+03],\n",
       "       [5.73171701e+04, 6.31080495e+01, 8.02095330e+03],\n",
       "       ...,\n",
       "       [4.43114493e+04, 2.80171669e+01, 5.52278669e+03],\n",
       "       [4.37560566e+04, 6.39717958e+01, 1.62272260e+03],\n",
       "       [6.94365796e+04, 5.61526170e+01, 7.37883360e+03]])"
      ]
     },
     "execution_count": 15,
     "metadata": {},
     "output_type": "execute_result"
    }
   ],
   "source": [
    "X = dataset.iloc[:,1:4].values\n",
    "X"
   ]
  },
  {
   "cell_type": "code",
   "execution_count": 16,
   "id": "e76bd51e-14e2-4780-bace-1cbb1476bfd7",
   "metadata": {},
   "outputs": [
    {
     "data": {
      "text/plain": [
       "array([0, 0, 0, ..., 1, 0, 0], dtype=int64)"
      ]
     },
     "execution_count": 16,
     "metadata": {},
     "output_type": "execute_result"
    }
   ],
   "source": [
    "y = dataset.iloc[:,4].values\n",
    "y"
   ]
  },
  {
   "cell_type": "markdown",
   "id": "81bf1803-94b6-42ca-aaaa-eb4514e4a961",
   "metadata": {},
   "source": [
    "## Importando pacotes de classificação"
   ]
  },
  {
   "cell_type": "code",
   "execution_count": 19,
   "id": "26d7c3cd-baed-4d2a-9c50-61a24d62ccf5",
   "metadata": {},
   "outputs": [],
   "source": [
    "from sklearn.model_selection import train_test_split\n",
    "from sklearn.naive_bayes import GaussianNB\n",
    "from sklearn.linear_model import LogisticRegression\n",
    "from sklearn.ensemble import RandomForestClassifier\n",
    "from sklearn.metrics import accuracy_score"
   ]
  },
  {
   "cell_type": "markdown",
   "id": "18b856a1-bd65-423a-a20f-5d2e3e84824f",
   "metadata": {},
   "source": [
    "## Loop com 30 testes"
   ]
  },
  {
   "cell_type": "code",
   "execution_count": 20,
   "id": "37014931-e537-4600-b639-91d1fc71eda7",
   "metadata": {},
   "outputs": [],
   "source": [
    "resultados_naive_bayes = []\n",
    "resultados_logistica = []\n",
    "resultados_forest = []\n",
    "\n",
    "for i in range(30):\n",
    "    X_treinamento, X_teste, y_treinamento, y_teste = train_test_split(X, y, test_size=0.2, \n",
    "                                                                     stratify=y, random_state=i)\n",
    "    naive_bayes = GaussianNB()\n",
    "    naive_bayes.fit(X_treinamento, y_treinamento)\n",
    "    resultados_naive_bayes.append(accuracy_score(y_teste, naive_bayes.predict(X_teste)))\n",
    "\n",
    "    logistica = LogisticRegression()\n",
    "    logistica.fit(X_treinamento, y_treinamento)\n",
    "    resultados_logistica.append(accuracy_score(y_teste, logistica.predict(X_teste)))\n",
    "\n",
    "    random_forest = RandomForestClassifier()\n",
    "    random_forest.fit(X_treinamento, y_treinamento)\n",
    "    resultados_forest.append(accuracy_score(y_teste, random_forest.predict(X_teste)))"
   ]
  },
  {
   "cell_type": "code",
   "execution_count": 21,
   "id": "6a7df5e1-dfaf-4ca5-acb2-fabdfab63025",
   "metadata": {},
   "outputs": [
    {
     "name": "stdout",
     "output_type": "stream",
     "text": [
      "[0.925, 0.925, 0.9325, 0.925, 0.92, 0.905, 0.9175, 0.9175, 0.9125, 0.9325, 0.9225, 0.9125, 0.935, 0.9175, 0.925, 0.9175, 0.9275, 0.92, 0.9325, 0.92, 0.93, 0.905, 0.9175, 0.9325, 0.9425, 0.9375, 0.94, 0.92, 0.935, 0.925]\n"
     ]
    }
   ],
   "source": [
    "print(resultados_naive_bayes)"
   ]
  },
  {
   "cell_type": "code",
   "execution_count": 22,
   "id": "0e4e3e6b-b504-49e2-a3d1-10922194c16b",
   "metadata": {},
   "outputs": [
    {
     "name": "stdout",
     "output_type": "stream",
     "text": [
      "[0.9325, 0.9275, 0.9375, 0.94, 0.94, 0.95, 0.955, 0.9425, 0.935, 0.955, 0.945, 0.9325, 0.95, 0.935, 0.9425, 0.9425, 0.9525, 0.9475, 0.96, 0.9425, 0.9575, 0.9375, 0.9525, 0.97, 0.94, 0.9475, 0.955, 0.9625, 0.9575, 0.945]\n"
     ]
    }
   ],
   "source": [
    "print(resultados_logistica)"
   ]
  },
  {
   "cell_type": "code",
   "execution_count": 23,
   "id": "21f221c4-93ff-49c1-8b48-7abe2d905d58",
   "metadata": {},
   "outputs": [
    {
     "name": "stdout",
     "output_type": "stream",
     "text": [
      "[0.9775, 0.985, 0.985, 0.9925, 0.9775, 0.9875, 0.9825, 0.98, 0.9775, 0.985, 0.9825, 0.9775, 0.975, 0.985, 0.98, 0.9775, 0.9875, 0.9775, 0.99, 0.985, 0.98, 0.975, 0.98, 0.9825, 0.985, 0.995, 0.9875, 0.9825, 0.99, 0.985]\n"
     ]
    }
   ],
   "source": [
    "print(resultados_forest)"
   ]
  },
  {
   "cell_type": "code",
   "execution_count": 25,
   "id": "146b1f3e-af06-47d0-bc4c-4f909b88a2b5",
   "metadata": {},
   "outputs": [],
   "source": [
    "resultados_naive_bayes = np.array(resultados_naive_bayes)\n",
    "resultados_logistica = np.array(resultados_logistica)\n",
    "resultados_forest = np.array(resultados_forest)"
   ]
  },
  {
   "cell_type": "markdown",
   "id": "b0e91530-01f4-4874-b006-3dbb045cbc44",
   "metadata": {},
   "source": [
    "## Média"
   ]
  },
  {
   "cell_type": "code",
   "execution_count": 27,
   "id": "31537ecd-416a-47fa-bd46-b4eb4f56049b",
   "metadata": {},
   "outputs": [
    {
     "name": "stdout",
     "output_type": "stream",
     "text": [
      "0.92425\n",
      "0.9463333333333334\n",
      "0.983\n"
     ]
    }
   ],
   "source": [
    "print(resultados_naive_bayes.mean())\n",
    "print(resultados_logistica.mean())\n",
    "print(resultados_forest.mean())"
   ]
  },
  {
   "cell_type": "markdown",
   "id": "8d84a5de-77b4-4f36-aee4-f541210dbdcb",
   "metadata": {},
   "source": [
    "## Moda"
   ]
  },
  {
   "cell_type": "code",
   "execution_count": 29,
   "id": "be623745-587d-4db6-88be-a4efaac17d12",
   "metadata": {},
   "outputs": [],
   "source": [
    "from scipy import stats"
   ]
  },
  {
   "cell_type": "code",
   "execution_count": 30,
   "id": "9a1c9564-740c-43c0-bf67-4e2c297c179f",
   "metadata": {},
   "outputs": [
    {
     "name": "stdout",
     "output_type": "stream",
     "text": [
      "ModeResult(mode=0.9175, count=5)\n",
      "ModeResult(mode=0.9425, count=4)\n",
      "ModeResult(mode=0.985, count=7)\n"
     ]
    }
   ],
   "source": [
    "print(stats.mode(resultados_naive_bayes))\n",
    "print(stats.mode(resultados_logistica))\n",
    "print(stats.mode(resultados_forest))"
   ]
  },
  {
   "cell_type": "markdown",
   "id": "c48089f2-99a9-4e7f-8747-e9e2dace517d",
   "metadata": {},
   "source": [
    "## Mediana"
   ]
  },
  {
   "cell_type": "code",
   "execution_count": 31,
   "id": "ebb80e7b-dab7-4d2a-a63a-56c50b99e0e3",
   "metadata": {},
   "outputs": [
    {
     "name": "stdout",
     "output_type": "stream",
     "text": [
      "0.925\n",
      "0.945\n",
      "0.9825\n"
     ]
    }
   ],
   "source": [
    "print(np.median(resultados_naive_bayes))\n",
    "print(np.median(resultados_logistica))\n",
    "print(np.median(resultados_forest))"
   ]
  },
  {
   "cell_type": "markdown",
   "id": "6bea9f62-bb5a-4f53-836d-b887819f7bad",
   "metadata": {},
   "source": [
    "## Variância"
   ]
  },
  {
   "cell_type": "code",
   "execution_count": 33,
   "id": "3387782b-b6f8-4ff7-95c0-74814854cb38",
   "metadata": {},
   "outputs": [
    {
     "name": "stdout",
     "output_type": "stream",
     "text": [
      "8.756250000000001e-05\n",
      "9.738888888888882e-05\n",
      "2.5583333333333333e-05\n"
     ]
    }
   ],
   "source": [
    "print(np.var(resultados_naive_bayes))\n",
    "print(np.var(resultados_logistica))\n",
    "print(np.var(resultados_forest))"
   ]
  },
  {
   "cell_type": "markdown",
   "id": "13ffb0f8-f550-4779-92b4-e1c9e3c9d731",
   "metadata": {},
   "source": [
    "Menor valor é melhor. Mostra que não há muita variância"
   ]
  },
  {
   "cell_type": "markdown",
   "id": "a34c7d37-de0e-4555-a8d8-f108f0d4aa5b",
   "metadata": {},
   "source": [
    "## Desvio padrão"
   ]
  },
  {
   "cell_type": "code",
   "execution_count": 34,
   "id": "e67eaf37-8b8a-4f9d-a89f-34482e21e2eb",
   "metadata": {},
   "outputs": [
    {
     "name": "stdout",
     "output_type": "stream",
     "text": [
      "0.00935748363610645\n",
      "0.009868580895391638\n",
      "0.00505799696849784\n"
     ]
    }
   ],
   "source": [
    "print(np.std(resultados_naive_bayes))\n",
    "print(np.std(resultados_logistica))\n",
    "print(np.std(resultados_forest))"
   ]
  },
  {
   "cell_type": "markdown",
   "id": "5b226dc4-a262-4afe-8684-5de732044fe1",
   "metadata": {},
   "source": [
    "## Coeficiente de variação"
   ]
  },
  {
   "cell_type": "code",
   "execution_count": 37,
   "id": "c5ab1de6-5d5e-4c2f-9db1-c3f1f884c99c",
   "metadata": {},
   "outputs": [
    {
     "name": "stdout",
     "output_type": "stream",
     "text": [
      "1.0124407504578252\n",
      "1.042822919555298\n",
      "0.5145469957780101\n"
     ]
    }
   ],
   "source": [
    "print(stats.variation(resultados_naive_bayes)* 100)\n",
    "print(stats.variation(resultados_logistica)* 100)\n",
    "print(stats.variation(resultados_forest)* 100)"
   ]
  },
  {
   "cell_type": "markdown",
   "id": "515c1f12-d443-4ee9-a6fa-5214fe442fa9",
   "metadata": {},
   "source": [
    "O último valor dá um coeficiente de variação de 0.5%, ou seja, os valores estão distânte da média em torno de 0.5%, que é o menor valor, comparado aos outros."
   ]
  },
  {
   "cell_type": "code",
   "execution_count": null,
   "id": "70ab1dc6-1f67-4017-b7f6-9109bef12a0b",
   "metadata": {},
   "outputs": [],
   "source": []
  }
 ],
 "metadata": {
  "kernelspec": {
   "display_name": "Python 3 (ipykernel)",
   "language": "python",
   "name": "python3"
  },
  "language_info": {
   "codemirror_mode": {
    "name": "ipython",
    "version": 3
   },
   "file_extension": ".py",
   "mimetype": "text/x-python",
   "name": "python",
   "nbconvert_exporter": "python",
   "pygments_lexer": "ipython3",
   "version": "3.12.3"
  }
 },
 "nbformat": 4,
 "nbformat_minor": 5
}
